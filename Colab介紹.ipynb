{
  "nbformat": 4,
  "nbformat_minor": 0,
  "metadata": {
    "colab": {
      "name": "Colab介紹.ipynb",
      "provenance": [],
      "collapsed_sections": [],
      "include_colab_link": true
    },
    "kernelspec": {
      "name": "python3",
      "display_name": "Python 3"
    }
  },
  "cells": [
    {
      "cell_type": "markdown",
      "metadata": {
        "id": "view-in-github",
        "colab_type": "text"
      },
      "source": [
        "<a href=\"https://colab.research.google.com/github/PatrickRuan/Colab/blob/master/Colab%E4%BB%8B%E7%B4%B9.ipynb\" target=\"_parent\"><img src=\"https://colab.research.google.com/assets/colab-badge.svg\" alt=\"Open In Colab\"/></a>"
      ]
    },
    {
      "cell_type": "markdown",
      "metadata": {
        "id": "Mh-rD4wFL86H",
        "colab_type": "text"
      },
      "source": [
        "## 開啟一個空白的 Colab\n",
        "\n",
        "1.   在 Google Drive 點選左上角的 **新增**\n",
        "![Google Drive](https://github.com/PatrickRuan/Colab/blob/master/pictures/googledrive.png?raw=true)\n",
        "\n",
        "2.   在新展開的選項，點選更多，才能夠看到 **Google Colaboratory** 的選項\n",
        "![新增](https://github.com/PatrickRuan/Colab/blob/master/pictures/%E6%96%B0%E5%A2%9Ecolab%E6%AA%94%E6%A1%88.png?raw=true)\n",
        "1.   這時候就會進入我們的 Colab 了\n",
        "2.   List item\n",
        "\n",
        "\n",
        "\n",
        "\n"
      ]
    },
    {
      "cell_type": "code",
      "metadata": {
        "id": "XeSx0LU4Pa_B",
        "colab_type": "code",
        "colab": {}
      },
      "source": [
        ""
      ],
      "execution_count": 0,
      "outputs": []
    }
  ]
}